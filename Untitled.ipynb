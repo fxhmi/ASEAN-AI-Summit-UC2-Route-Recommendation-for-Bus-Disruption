{
 "cells": [
  {
   "cell_type": "code",
   "execution_count": 1,
   "id": "13785613-1425-4200-b285-fff2b2567daa",
   "metadata": {},
   "outputs": [
    {
     "name": "stdout",
     "output_type": "stream",
     "text": [
      "Encoding mappings saved as CSV files:\n",
      "- depot_mapping.csv\n",
      "- route_id_mapping.csv\n",
      "- route_no_mapping.csv\n"
     ]
    }
   ],
   "source": [
    "import pandas as pd\n",
    "\n",
    "# --- Load your data ---\n",
    "ranked_routes = pd.read_csv('/Users/fahmi.taib/Desktop/Deployment Code Test/top_200_routes_by_ridership.csv')\n",
    "ridership_df = pd.read_csv('/Users/fahmi.taib/Desktop/Deployment Code Test/very_new_finalised_ridership_route.csv', low_memory=False)\n",
    "ridership_df['date'] = pd.to_datetime(ridership_df['date'], format='%m/%d/%y', errors='coerce')\n",
    "ridership_df = ridership_df.dropna(subset=['date'])\n",
    "\n",
    "# --- Filter to top 180 routes ---\n",
    "top_routes = ranked_routes.head(180)['route_no'].astype(str)\n",
    "ridership_df = ridership_df[ridership_df['route_no'].astype(str).isin(top_routes)]\n",
    "\n",
    "# --- Aggregate ridership per route per day ---\n",
    "agg_df = ridership_df.groupby(['route_no', 'date']).agg({\n",
    "    'ridership_total': 'sum',\n",
    "    'hour': 'max',\n",
    "    'depot': 'first',\n",
    "    'route_id': 'first'\n",
    "}).reset_index()\n",
    "\n",
    "# --- Encode categorical features and save the mapping ---\n",
    "mappings = {}\n",
    "for col in ['depot', 'route_id', 'route_no']:\n",
    "    codes, uniques = pd.factorize(agg_df[col])\n",
    "    agg_df[col + '_enc'] = codes\n",
    "    # Save mapping: original value -> encoded value\n",
    "    mapping = dict(zip(uniques, range(len(uniques))))\n",
    "    mappings[col] = mapping\n",
    "    # Save to CSV\n",
    "    mapping_df = pd.DataFrame(list(mapping.items()), columns=[col, col + '_enc'])\n",
    "    mapping_df.to_csv(f'/Users/fahmi.taib/Desktop/Deployment Code Test/{col}_mapping.csv', index=False)\n",
    "\n",
    "print(\"Encoding mappings saved as CSV files:\")\n",
    "for col in mappings:\n",
    "    print(f\"- {col}_mapping.csv\")\n"
   ]
  },
  {
   "cell_type": "code",
   "execution_count": 2,
   "id": "ea48202a-7d7d-4eda-89be-d27be62763d9",
   "metadata": {},
   "outputs": [
    {
     "name": "stdout",
     "output_type": "stream",
     "text": [
      "Categorical mappings saved to categorical_mappings.py\n"
     ]
    }
   ],
   "source": [
    "import pandas as pd\n",
    "\n",
    "# Load your data (adjust path as needed)\n",
    "ridership_df = pd.read_csv('/Users/fahmi.taib/Desktop/Deployment Code Test/very_new_finalised_ridership_route.csv', low_memory=False)\n",
    "ridership_df['date'] = pd.to_datetime(ridership_df['date'], format='%m/%d/%y', errors='coerce')\n",
    "ridership_df = ridership_df.dropna(subset=['date'])\n",
    "\n",
    "# Factorize columns and collect mappings\n",
    "mappings = {}\n",
    "for col in ['depot', 'route_id', 'route_no']:\n",
    "    codes, uniques = pd.factorize(ridership_df[col])\n",
    "    mapping = dict(zip(uniques, range(len(uniques))))\n",
    "    mappings[col] = mapping\n",
    "\n",
    "# Format dict as Python code string\n",
    "def format_dict(d):\n",
    "    items = [f'    \"{k}\": {v},' for k, v in d.items()]\n",
    "    return \"{\\n\" + \"\\n\".join(items) + \"\\n}\"\n",
    "\n",
    "with open('categorical_mappings.py', 'w') as f:\n",
    "    f.write(\"# Auto-generated categorical mappings\\n\\n\")\n",
    "    for col, mapping in mappings.items():\n",
    "        f.write(f\"{col}_mapping = {format_dict(mapping)}\\n\\n\")\n",
    "\n",
    "print(\"Categorical mappings saved to categorical_mappings.py\")\n"
   ]
  }
 ],
 "metadata": {
  "kernelspec": {
   "display_name": "Python 3 (ipykernel)",
   "language": "python",
   "name": "python3"
  },
  "language_info": {
   "codemirror_mode": {
    "name": "ipython",
    "version": 3
   },
   "file_extension": ".py",
   "mimetype": "text/x-python",
   "name": "python",
   "nbconvert_exporter": "python",
   "pygments_lexer": "ipython3",
   "version": "3.13.3"
  }
 },
 "nbformat": 4,
 "nbformat_minor": 5
}
